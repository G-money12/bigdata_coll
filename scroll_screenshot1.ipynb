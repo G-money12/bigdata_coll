{
 "cells": [
  {
   "cell_type": "code",
   "execution_count": 3,
   "metadata": {},
   "outputs": [
    {
     "name": "stdout",
     "output_type": "stream",
     "text": [
      "총 1개의 스크린샷이 저장되었습니다.\n"
     ]
    }
   ],
   "source": [
    "from selenium import webdriver\n",
    "import time\n",
    "\n",
    "def take_screenshot_while_scrolling(driver, output_folder=\"screenshots\"):\n",
    "    import os\n",
    "    \n",
    "    # 폴더가 없는 경우 생성\n",
    "    if not os.path.exists(output_folder):\n",
    "        os.makedirs(output_folder)\n",
    "    \n",
    "    total_height = driver.execute_script(\"return document.body.scrollHeight\")  # 페이지의 총 높이를 가져옵니다\n",
    "    viewport_height = driver.execute_script(\"return window.innerHeight\")  # 현재 화면의 높이를 가져옵니다\n",
    "    \n",
    "    scroll_position = 0\n",
    "    screenshot_count = 0\n",
    "    \n",
    "    while scroll_position < total_height:\n",
    "        # 스크린샷 저장\n",
    "        driver.save_screenshot(os.path.join(output_folder, f\"screenshot_{screenshot_count}.png\"))\n",
    "        screenshot_count += 1\n",
    "        \n",
    "        # 스크롤 이동\n",
    "        driver.execute_script(\"window.scrollBy(0, arguments[0])\", viewport_height)\n",
    "        scroll_position += viewport_height   # 현재 스크롤 위치 업데이트\n",
    "        time.sleep(1)  # 스크롤 후 페이지가 로드되도록 잠시 대기\n",
    "    \n",
    "    print(f\"총 {screenshot_count}개의 스크린샷이 저장되었습니다.\")\n",
    "\n",
    "# Use case\n",
    "driver = webdriver.Edge()\n",
    "driver.get(\"https://www.google.com/search?q=%EA%BC%AC%EB%A7%89%EC%A7%AC%EB%BD%95&sca_esv=ef6a114c258b96d2&hl=ko&sxsrf=AHTn8zrju8f_biA-ymQdaSxRCHX_Z_Hqbw%3A1741751145389&source=hp&ei=aQPRZ5jkFNvG0-kPxrDCiAg&iflsig=ACkRmUkAAAAAZ9EReR4dqPZn50uNAqYlAvI6AGCEs5Os&ved=0ahUKEwjYvLjS0IOMAxVb4zQHHUaYEIEQ4dUDCBo&uact=5&oq=%EA%BC%AC%EB%A7%89%EC%A7%AC%EB%BD%95&gs_lp=Egdnd3Mtd2l6IgzqvKzrp4nsp6zrvZUyBRAAGIAEMgsQLhiABBjHARivATIFEAAYgAQyBRAAGIAEMgUQABiABDIEEAAYHjIEEAAYHjIEEAAYHjIGEAAYBRgeMgYQABgFGB5I1tULUOOWC1iX1AtwB3gAkAEBmAG9AaAB-RSqAQQwLjE1uAEDyAEA-AEBmAIUoALLE6gCCsICBxAjGCcY6gLCAg0QLhjRAxjHARgnGOoCwgIKECMYgAQYJxiKBcICBBAjGCfCAgsQABiABBixAxiDAcICBxAuGIAEGArCAg4QLhiABBixAxjRAxjHAcICChAAGIAEGEMYigXCAggQABiABBixA8ICBRAuGIAEwgIEEC4YA8ICBBAAGAPCAhEQLhiABBixAxjRAxiDARjHAcICERAuGIAEGLEDGIMBGMcBGK8BwgIIEC4YgAQYsQPCAgsQLhiABBixAxiDAcICCBAAGIAEGKIEwgIFEAAY7wWYAwnxBW_S3gn_Xn0qkgcENy4xM6AHqIwB&sclient=gws-wiz\")  # 스크린샷 찍을 페이지로 이동\n",
    "time.sleep(3)  # 페이지 로드 대기\n",
    "\n",
    "# 호출\n",
    "take_screenshot_while_scrolling(driver)\n",
    "\n",
    "driver.quit()"
   ]
  },
  {
   "cell_type": "markdown",
   "metadata": {},
   "source": [
    "scrool을 내려서 screenshot을 찍어라."
   ]
  },
  {
   "cell_type": "code",
   "execution_count": null,
   "metadata": {},
   "outputs": [
    {
     "name": "stdout",
     "output_type": "stream",
     "text": [
      "총 1개의 스크린샷이 저장되었습니다.\n"
     ]
    }
   ],
   "source": [
    "from selenium import webdriver\n",
    "import time\n",
    "\n",
    "def take_screenshot_while_scrolling(driver, output_folder=\"screenshots\"):\n",
    "    import os\n",
    "    \n",
    "    # 폴더가 없는 경우 생성\n",
    "    if not os.path.exists(output_folder):\n",
    "        os.makedirs(output_folder)\n",
    "    \n",
    "    total_height = driver.execute_script(\"return document.body.scrollHeight\")  # 페이지의 총 높이를 가져옵니다\n",
    "    viewport_height = driver.execute_script(\"return window.innerHeight\")  # 현재 화면의 높이를 가져옵니다\n",
    "    \n",
    "    scroll_position = 0\n",
    "    screenshot_count = 0\n",
    "    \n",
    "    while scroll_position < total_height:\n",
    "        # 스크린샷 저장\n",
    "        driver.save_screenshot(os.path.join(output_folder, f\"screenshot_{screenshot_count}.png\"))\n",
    "        screenshot_count += 1\n",
    "        \n",
    "        # 스크롤 이동\n",
    "        driver.execute_script(\"window.scrollBy(0, arguments[0])\", viewport_height)\n",
    "        scroll_position += viewport_height   # 현재 스크롤 위치 업데이트\n",
    "        time.sleep(1)  # 스크롤 후 페이지가 로드되도록 잠시 대기\n",
    "    \n",
    "    print(f\"총 {screenshot_count}개의 스크린샷이 저장되었습니다.\")\n",
    "\n",
    "# Use case\n",
    "driver = webdriver.Edge()\n",
    "driver.get(\"https://www.google.com/webhp?hl=ko&sa=X&ved=0ahUKEwjakbOu0YOMAxX8r1YBHd5MNLkQPAgI\")  # 스크린샷 찍을 페이지로 이동\n",
    "time.sleep(3)  # 페이지 로드 대기\n",
    "\n",
    "# 호출\n",
    "take_screenshot_while_scrolling(driver)\n",
    "\n",
    "driver.quit()"
   ]
  },
  {
   "cell_type": "code",
   "execution_count": 31,
   "metadata": {},
   "outputs": [],
   "source": [
    "from selenium import webdriver\n",
    "from selenium.webdriver.common.keys import Keys\n",
    "import time\n",
    "\n",
    "# 특정요소가 로드 될때까지 대기(webDriverWait)\n",
    "from selenium.webdriver.support.ui import WebDriverWait\n",
    "# 대기조건\n",
    "from selenium.webdriver.support import expected_conditions as EC\n",
    "from selenium.webdriver.common.by import By\n",
    "\n",
    "driver=webdriver.Chrome()\n",
    "driver.get(\"https://www.naver.com\")\n",
    "\n",
    "# name의 값이 'q'인 엘리먼트가 로드될때까지 10초간 \n",
    "# and element 선택이 됨\n",
    "search_box=WebDriverWait(driver,10).until(\n",
    "    EC.presence_of_element_located((By.NAME,\"query\"))\n",
    ")\n",
    "#driver.find_element(\"\")\n",
    "search_box.send_keys(\"selenium 대기 테스트\")\n",
    "search_box.send_keys(Keys.ENTER)\n",
    "time.sleep(5)\n",
    "driver.quit()"
   ]
  },
  {
   "cell_type": "code",
   "execution_count": null,
   "metadata": {},
   "outputs": [],
   "source": [
    "# 마우스 이벤트 조작(ActionChains)\n",
    "from selenium.webdriver.common.action_chains import ActionChains\n",
    "\n",
    "driver = webdriver.Chrome()\n",
    "driver.get(\"https://www.google.com\")\n",
    "\n",
    "element=driver.find_element(\"link text\", 'Gmail')\n",
    "\n",
    "# element에 마우스 오버 이벤트 수행\n",
    "actions=ActionChains(driver)\n",
    "actions.move_to_element(element).perform()\n",
    "\n",
    "time.sleep(10)\n",
    "driver.quit()"
   ]
  },
  {
   "cell_type": "code",
   "execution_count": 18,
   "metadata": {},
   "outputs": [],
   "source": [
    "driver = webdriver.Chrome()\n",
    "driver.get(\"https://www.google.com\")\n",
    "\n",
    "search_box = driver.find_element(\"name\", \"q\")\n",
    "search_box.send_keys(\"selenium 입력테스트\")\n",
    "time.sleep(3)\n",
    "search_box.clear()\n",
    "time.sleep(3)\n",
    "driver.quit()"
   ]
  },
  {
   "cell_type": "markdown",
   "metadata": {},
   "source": [
    "브라우저 창 크기 조절하기 (set_window_size())"
   ]
  },
  {
   "cell_type": "code",
   "execution_count": 20,
   "metadata": {},
   "outputs": [
    {
     "name": "stdout",
     "output_type": "stream",
     "text": [
      "<html itemscope=\"\" itemtype=\"http://schema.org/WebPage\" lang=\"ko\"><head><meta charset=\"UTF-8\"><meta content=\"origin\" name=\"referrer\"><meta content=\"/images/branding/googleg/1x/googleg_standard_color_128dp.png\" itemprop=\"image\"><title>Google</title><script src=\"https://apis.google.com/_/scs/abc-static/_/js/k=gapi.gapi.en.uiLLJjqnhCQ.O/m=gapi_iframes,googleapis_client/rt=j/sv=1/d=1/ed=1/rs=AHpOoo8NP2y291iiPDmfAN0GV3dvCuqlYA/cb=gapi.loaded_0\" nonce=\"\" async=\"\"></script><script nonce=\"\">window._hst=Date.now();</script><script nonce=\"\">(function(){var _g={kEI:'jhvRZ7zaEqaA1e8Py7ew8Qg',kEXPI:'31',kBL:'p7fy',kOPI:89978449};(function(){var a;((a=window.google)==null?0:a.stvsc)?google.kEI=_g.kEI:window.google=_g;}).call(this);})();(function(){google.sn='webhp';google.kHL='ko';})();(function(){\n",
      "var g=this||self;function k(){return window.google&&window.google.kOPI||null};var l,m=[];function n(a){for(var b;a&&(!a.getAttribute||!(b=a.getAttribute(\"eid\")));)a=a.parentNode;return b||l}function p(a){\n"
     ]
    }
   ],
   "source": [
    "driver = webdriver.Chrome()\n",
    "driver.get(\"https://www.google.com\")\n",
    "time.sleep(3)\n",
    "html=driver.page_source\n",
    "print(html[:1000])\n",
    "\n",
    "#driver.set_window_size(600,400)\n",
    "time.sleep(5)\n",
    "driver.quit()\n"
   ]
  },
  {
   "cell_type": "markdown",
   "metadata": {},
   "source": [
    "파일업로드 자동화\n",
    "\n",
    "https://tus.io/demo.html"
   ]
  },
  {
   "cell_type": "code",
   "execution_count": 24,
   "metadata": {},
   "outputs": [],
   "source": [
    "driver = webdriver.Chrome()\n",
    "driver.get(\"https:tus.io/demo.html\")\n",
    "time.sleep(3)\n",
    "\n",
    "upload=driver.find_element(\"xpath\", \"//input[@type='file']\")\n",
    "#upload1=driver.find_element(\"id\",\"P0-0\")\n",
    "upload.send_keys(r\"C:\\Users\\it\\Desktop\\Python\\bigdata_coll\\data\\test_screenshot.png\")\n",
    "time.sleep(10)\n",
    "driver.quit()"
   ]
  },
  {
   "cell_type": "markdown",
   "metadata": {},
   "source": [
    "네이버 검색어 제목 가져오기"
   ]
  },
  {
   "cell_type": "code",
   "execution_count": null,
   "metadata": {},
   "outputs": [
    {
     "name": "stdout",
     "output_type": "stream",
     "text": [
      "Selenium으로 네이버 접속 + ChatGPT API 활용 블로그 글 자동 생성\n",
      "2.8 사이트 자동화하기 - selenium 사용법(1) - 비전공자를 위한 파이썬 완벽 가이드\n",
      "Selenium 자동화 테스트 도구 라이브러리 설명\n",
      "🎭 Playwright vs ✳️ Selenium, 테스트 자동화 툴 비교해보기\n",
      "Selenium 자동화 환경 설정, maven TestNG ChromeDriver\n",
      "[Python] 자동 로그인, 구매 등 매크로 만들기 (selenium 사용)\n",
      "Python, Selenium 기반 웹 자동화 테스트 구현하기\n",
      "Selenium\n",
      "[Selenium] 로그인 자동화 프로그램 (캡차 우회)\n",
      "웹 브라우저(Browserless) 기반 자동화 도구, Playwright와 Selenium🐟\n",
      "[Selenium] UI자동화에서 자주 사용하는 메소드\n",
      "[ 웹 브라우저 자동화 ] 효율적인 웹 애플리케이션 Selenium 모듈\n",
      "selenium을 이용한 웹 페이지 자동화 구현\n",
      "Selenium Manager (Beta)\n",
      "[웹 크롤링]네이버 블로그 업로드 자동화(SELENIUM & ChatGPT)\n",
      "2024.02.12. 미션 1) Selenium으로 네이버 접속\n",
      "수업중 pip3 install selenium으로 pycharm에서 드라이버 설치완료\n",
      "아래와 같은 코드 활용 네이버 접속하여 검색어 작성후 검색 클릭\n",
      "로그인→ 블로그글 작성하기 → 임시 저장하기 까지 셀레니움 코드 작성 필요\n",
      "2021.12.01. 💻지금까지 이렇게 친절하게 설명하는 코딩 강의는 없었다 [이것이 진짜 크롤링이다 - 기본편] 💵코딩 실력 향상 100% 보장, 실전 파이썬 데이터 수집 강의 (도움 안되면 환불가능) [이것이 진짜 크롤링이다 - 실전편] BeautifulSoup 라이브러리만으로도 다양한 사이트의 정보를 추출할 수 있습니다. 그런데, BeautifulSoup에게는 한계가 있답니다. 그 한계란 무엇일까요? 바로, \"자바스크립트...\n",
      "2023.04.09. 자동화 공부를 시작하기에 앞서 셀레니움이 무엇이며, 왜 사용하는지 정리해보고 시작하자. Selenium? - 브라우저 자동화에 널리 쓰이는 툴이다. - 앱 테스팅에 주로 사용되지만, 테스트 용도에만 국한되지는 않는다. - 구글 크롬, 모질라 파이어폭스, 마이크로소프트 IE, Edge, 애플 사파리, 오페라 같은 주요 브라우저의 를 지원한다. -...\n",
      "테스트 자동화 툴, Playwright과 Selenium 비교\n",
      "2023.04.13. selenium-start 자바 프로젝트 설정 - 셀레니움 웹 드라이버는 브라우저 자동화를 도와주는 라이브러리 이다. - 브라우저 자동화를 위해 필요한 것은 다음과 같다. (1)... 그리고 메이븐은 프로젝트 빌드에 필요한 라이브러리를 으로 다운로드 한다. - 이클립스와 메이븐을 사용하여, 셀레니움 웹드라이버 테스트 프레임워크를 하나의 프로그램에서...\n",
      "2022.01.20. 웹 사이트 열기 (chrome) 먼저 chromedriver-autoinstaller, selenium을 다운받고 코드를 실행해야 합니다. # 파일명 : main.py import chromedriver... set_window_size(1920, 1080) return driver 만약 위 코드를 사용하고 자동 로그인(아래에 코드 있음)을 시도했을 때 로그인이 막힌다면, 다음 코드를...\n",
      "2023.02.20. 웹 사이트에서 정보를 추출하는 크롤링 또는 테스트 자동화를 구현할 때 셀레니움 (Selenium) 라이브러리를 많이 사용합니다. 이번 포스팅에서는파이썬 개발환경 구축과 셀레니움으로 웹 테스트 자동화를 구현하는 방법에 대해 알아보겠습니다. 파이썬 프로그래밍 환경 구축 파이썬은 언어는 아래와 같은 특징이 있습니다. 인터프리터 언어 (코드 한줄 작성 후 바...\n",
      "Selenium automates browsers. That's it!\n",
      "2024.10.11. 아래는 코드는 네이버 로그인 캡차를 우회하지 않는 코드이다 from selenium import webdriver from selenium.webdriver.common.by import By from selenium.... 돌려보면 아래처럼 다시 로그인이 잘 된다!! 네이버 로그인이 필요한 다양한 서비스들을 할 수 있지만 절대 악용은 하지 말아야한다.\n",
      "2024.06.20. Playwright와 Selenium은 둘 다 웹 브라우저를 자동화하여 웹 스크레이핑이나 웹 테스팅 등에 널리 사용되는 도구입니다. 최근에는 Playwright가 많은 주목을 받고 있으며, 이는 그 특징과 성능 때문입니다. 여러분의 회사에서 적합한 도구를 선택하는데 도움이 되도록 두 도구의 주요 차이점과 장단점을 비교해 드리겠습니다.기술적 특징 및 지...\n",
      "2024.09.13. 위 글은 웹 UI 자동화 스크립트를 작성할 때 자주 사용하는 메서드를 기억하기 위해 기록하는 글입니다. 😊그럼 어김없이 피.언.감🙇♂️ (피드백은 언제나 감사합니다.)*드라이버는 크롬 드라이버 기준입니다.*✔️ WebDriver.get(\"url\")웹드라이버가 지정된 URL로 브라우저를 이동시키는 메서드이다.from import we...\n",
      "2024.09.27. seleium 웹 브라우저 자동화 도구 활용법 [ Python으로 웹 작업 자동화 ]Selenium으로 자동화된 테스트와 웹 스크래핑 효율적으로 구현하기Selenium은 웹 브라우저를 프로그래밍적으로 제어할 수 있는 오픈 소스 [ 웹 브라우저 자동화 도구]로, 주로 P...\n",
      "2022.09.16. 웹 인터페이스를 사용하는 보안 솔루션을 이용하는데, 매일 전날 일일 통계 보고서를 출력해야 하는 일이 생겼다. 그래서 '한 번 자동화로 구현해보자'라는 생각을 가지게 되었고, 언제나 그랬듯이 신입은 시간이 매우 널널하다.. 바로 구현을 해봤다. 선택 이유 선택 이유는 아래 2가지다. 다른 언어로는 어떻게 해야할지 감도 오지 않았다. 1...\n",
      "2025.01.06. Selenium uses the native support implemented by each browser to carry out the automation process. For this reason, Selenium users need to place a component called driver (chromedriver, geckodriver, msedgedriver, etc.) between the script using the Selenium API and the browser. For many years, managing these drivers was a manual process for users. This way, they had to download the required driver for a browser (chromedriver for Chrome, geckodriver for Firefox, etc.) and place it in the P...\n",
      "2024.05.30. [웹 크롤링]네이버 블로그 업로드 자동화(SELENIUM & ChatGPT)1. 필요한 라이브러리 불러오기import seleniumimport timefrom selenium import webdriverfrom selenium.webdriver.common.action_chains import ActionChainsimport pyperclip #...\n"
     ]
    }
   ],
   "source": [
    "from selenium import webdriver\n",
    "from selenium.webdriver.common.keys import Keys\n",
    "import time\n",
    "\n",
    "driver=webdriver.Chrome()\n",
    "driver.get(\"https://www.naver.com\")\n",
    "time.sleep(3)\n",
    "\n",
    "search_box=driver.find_element('name',\"query\")\n",
    "search_box.send_keys(\"Selenium 자동화\")\n",
    "search_box.send_keys(Keys.ENTER)\n",
    "time.sleep(3)\n",
    "\n",
    "element1=driver.find_element(\"css selector\",\"a.group_more\")     # 검색결과 더보기 ->   click\n",
    "element1.click()\n",
    "\n",
    "titles=driver.find_elements(\"css selector\",\"div.total_tit > a\")     # 제목 가져오기\n",
    "for title in titles:\n",
    "    print(title.text)\n",
    "\n",
    "contents=driver.find_elements(\"css selector\",\"div.total_dsc_wrap\")    # 내용 가져오기\n",
    "for content in contents:\n",
    "    print(content.text)\n",
    "\n",
    "\n",
    "\n",
    "# driver.quit()"
   ]
  },
  {
   "cell_type": "code",
   "execution_count": 43,
   "metadata": {},
   "outputs": [
    {
     "name": "stdout",
     "output_type": "stream",
     "text": [
      "title0:Selenium으로 네이버 접속 + ChatGPT API 활용 블로그 글 자동 생성\n",
      "contents0:2024.02.12. 미션 1) Selenium으로 네이버 접속\n",
      "수업중 pip3 install selenium으로 pycharm에서 드라이버 설치완료\n",
      "아래와 같은 코드 활용 네이버 접속하여 검색어 작성후 검색 클릭\n",
      "로그인→ 블로그글 작성하기 → 임시 저장하기 까지 셀레니움 코드 작성 필요\n",
      "title1:2.8 사이트 자동화하기 - selenium 사용법(1) - 비전공자를 위한 파이썬 완벽 가이드\n",
      "contents1:2021.12.01. 💻지금까지 이렇게 친절하게 설명하는 코딩 강의는 없었다 [이것이 진짜 크롤링이다 - 기본편] 💵코딩 실력 향상 100% 보장, 실전 파이썬 데이터 수집 강의 (도움 안되면 환불가능) [이것이 진짜 크롤링이다 - 실전편] BeautifulSoup 라이브러리만으로도 다양한 사이트의 정보를 추출할 수 있습니다. 그런데, BeautifulSoup에게는 한계가 있답니다. 그 한계란 무엇일까요? 바로, \"자바스크립트...\n",
      "title2:Selenium 자동화 테스트 도구 라이브러리 설명\n",
      "contents2:2023.04.09. 자동화 공부를 시작하기에 앞서 셀레니움이 무엇이며, 왜 사용하는지 정리해보고 시작하자. Selenium? - 브라우저 자동화에 널리 쓰이는 툴이다. - 앱 테스팅에 주로 사용되지만, 테스트 용도에만 국한되지는 않는다. - 구글 크롬, 모질라 파이어폭스, 마이크로소프트 IE, Edge, 애플 사파리, 오페라 같은 주요 브라우저의 를 지원한다. -...\n",
      "title3:🎭 Playwright vs ✳️ Selenium, 테스트 자동화 툴 비교해보기\n",
      "contents3:테스트 자동화 툴, Playwright과 Selenium 비교\n",
      "title4:Selenium 자동화 환경 설정, maven TestNG ChromeDriver\n",
      "contents4:2023.04.13. selenium-start 자바 프로젝트 설정 - 셀레니움 웹 드라이버는 브라우저 자동화를 도와주는 라이브러리 이다. - 브라우저 자동화를 위해 필요한 것은 다음과 같다. (1)... 그리고 메이븐은 프로젝트 빌드에 필요한 라이브러리를 으로 다운로드 한다. - 이클립스와 메이븐을 사용하여, 셀레니움 웹드라이버 테스트 프레임워크를 하나의 프로그램에서...\n",
      "title5:[Python] 자동 로그인, 구매 등 매크로 만들기 (selenium 사용)\n",
      "contents5:2022.01.20. 웹 사이트 열기 (chrome) 먼저 chromedriver-autoinstaller, selenium을 다운받고 코드를 실행해야 합니다. # 파일명 : main.py import chromedriver... set_window_size(1920, 1080) return driver 만약 위 코드를 사용하고 자동 로그인(아래에 코드 있음)을 시도했을 때 로그인이 막힌다면, 다음 코드를...\n",
      "title6:Python, Selenium 기반 웹 자동화 테스트 구현하기\n",
      "contents6:2023.02.20. 웹 사이트에서 정보를 추출하는 크롤링 또는 테스트 자동화를 구현할 때 셀레니움 (Selenium) 라이브러리를 많이 사용합니다. 이번 포스팅에서는파이썬 개발환경 구축과 셀레니움으로 웹 테스트 자동화를 구현하는 방법에 대해 알아보겠습니다. 파이썬 프로그래밍 환경 구축 파이썬은 언어는 아래와 같은 특징이 있습니다. 인터프리터 언어 (코드 한줄 작성 후 바...\n",
      "title7:Selenium\n",
      "contents7:Selenium automates browsers. That's it!\n",
      "title8:[Selenium] 로그인 자동화 프로그램 (캡차 우회)\n",
      "contents8:2024.10.11. 아래는 코드는 네이버 로그인 캡차를 우회하지 않는 코드이다 from selenium import webdriver from selenium.webdriver.common.by import By from selenium.... 돌려보면 아래처럼 다시 로그인이 잘 된다!! 네이버 로그인이 필요한 다양한 서비스들을 할 수 있지만 절대 악용은 하지 말아야한다.\n",
      "title9:웹 브라우저(Browserless) 기반 자동화 도구, Playwright와 Selenium🐟\n",
      "contents9:2024.06.20. Playwright와 Selenium은 둘 다 웹 브라우저를 자동화하여 웹 스크레이핑이나 웹 테스팅 등에 널리 사용되는 도구입니다. 최근에는 Playwright가 많은 주목을 받고 있으며, 이는 그 특징과 성능 때문입니다. 여러분의 회사에서 적합한 도구를 선택하는데 도움이 되도록 두 도구의 주요 차이점과 장단점을 비교해 드리겠습니다.기술적 특징 및 지...\n",
      "title10:[Selenium] UI자동화에서 자주 사용하는 메소드\n",
      "contents10:2024.09.13. 위 글은 웹 UI 자동화 스크립트를 작성할 때 자주 사용하는 메서드를 기억하기 위해 기록하는 글입니다. 😊그럼 어김없이 피.언.감🙇♂️ (피드백은 언제나 감사합니다.)*드라이버는 크롬 드라이버 기준입니다.*✔️ WebDriver.get(\"url\")웹드라이버가 지정된 URL로 브라우저를 이동시키는 메서드이다.from import we...\n",
      "title11:[ 웹 브라우저 자동화 ] 효율적인 웹 애플리케이션 Selenium 모듈\n",
      "contents11:2024.09.27. seleium 웹 브라우저 자동화 도구 활용법 [ Python으로 웹 작업 자동화 ]Selenium으로 자동화된 테스트와 웹 스크래핑 효율적으로 구현하기Selenium은 웹 브라우저를 프로그래밍적으로 제어할 수 있는 오픈 소스 [ 웹 브라우저 자동화 도구]로, 주로 P...\n",
      "title12:selenium을 이용한 웹 페이지 자동화 구현\n",
      "contents12:2022.09.16. 웹 인터페이스를 사용하는 보안 솔루션을 이용하는데, 매일 전날 일일 통계 보고서를 출력해야 하는 일이 생겼다. 그래서 '한 번 자동화로 구현해보자'라는 생각을 가지게 되었고, 언제나 그랬듯이 신입은 시간이 매우 널널하다.. 바로 구현을 해봤다. 선택 이유 선택 이유는 아래 2가지다. 다른 언어로는 어떻게 해야할지 감도 오지 않았다. 1...\n",
      "title13:Selenium Manager (Beta)\n",
      "contents13:2025.01.06. Selenium uses the native support implemented by each browser to carry out the automation process. For this reason, Selenium users need to place a component called driver (chromedriver, geckodriver, msedgedriver, etc.) between the script using the Selenium API and the browser. For many years, managing these drivers was a manual process for users. This way, they had to download the required driver for a browser (chromedriver for Chrome, geckodriver for Firefox, etc.) and place it in the P...\n",
      "title14:[웹 크롤링]네이버 블로그 업로드 자동화(SELENIUM & ChatGPT)\n",
      "contents14:2024.05.30. [웹 크롤링]네이버 블로그 업로드 자동화(SELENIUM & ChatGPT)1. 필요한 라이브러리 불러오기import seleniumimport timefrom selenium import webdriverfrom selenium.webdriver.common.action_chains import ActionChainsimport pyperclip #...\n"
     ]
    }
   ],
   "source": [
    "driver=webdriver.Chrome()\n",
    "driver.get(\"https://www.naver.com\")\n",
    "time.sleep(3)\n",
    "\n",
    "search_box=driver.find_element('name',\"query\")\n",
    "search_box.send_keys(\"Selenium 자동화\")\n",
    "search_box.send_keys(Keys.ENTER)\n",
    "time.sleep(3)\n",
    "\n",
    "element1=driver.find_element(\"css selector\",\"a.group_more\")     # 검색결과 더보기 ->   click\n",
    "element1.click()\n",
    "\n",
    "\n",
    "titles=driver.find_elements(\"css selector\",\"div.total_tit > a\")     # 제목 가져오기\n",
    "contents=driver.find_elements(\"css selector\",\"div.total_dsc_wrap\")\n",
    "for i in range(len(titles)):\n",
    "    print(f\"title{i}:{titles[i].text}\")\n",
    "    print(f\"contents{i}:{contents[i].text}\")\n",
    "\n",
    "driver.quit()\n"
   ]
  },
  {
   "cell_type": "code",
   "execution_count": 48,
   "metadata": {},
   "outputs": [
    {
     "name": "stdout",
     "output_type": "stream",
     "text": [
      "18\n",
      "제목:Selenium으로 네이버 접속 + ChatGPT API 활용 블로그 글 자동 생성\n",
      "내용:2024.02.12. 미션 1) Selenium으로 네이버 접속\n",
      "수업중 pip3 install selenium으로 pycharm에서 드라이버 설치완료\n",
      "아래와 같은 코드 활용 네이버 접속하여 검색어 작성후 검색 클릭\n",
      "로그인→ 블로그글 작성하기 → 임시 저장하기 까지 셀레니움 코드 작성 필요\n",
      "제목:2.8 사이트 자동화하기 - selenium 사용법(1) - 비전공자를 위한 파이썬 완벽 가이드\n",
      "내용:2021.12.01. 💻지금까지 이렇게 친절하게 설명하는 코딩 강의는 없었다 [이것이 진짜 크롤링이다 - 기본편] 💵코딩 실력 향상 100% 보장, 실전 파이썬 데이터 수집 강의 (도움 안되면 환불가능) [이것이 진짜 크롤링이다 - 실전편] BeautifulSoup 라이브러리만으로도 다양한 사이트의 정보를 추출할 수 있습니다. 그런데, BeautifulSoup에게는 한계가 있답니다. 그 한계란 무엇일까요? 바로, \"자바스크립트...\n",
      "제목:Selenium 자동화 테스트 도구 라이브러리 설명\n",
      "내용:2023.04.09. 자동화 공부를 시작하기에 앞서 셀레니움이 무엇이며, 왜 사용하는지 정리해보고 시작하자. Selenium? - 브라우저 자동화에 널리 쓰이는 툴이다. - 앱 테스팅에 주로 사용되지만, 테스트 용도에만 국한되지는 않는다. - 구글 크롬, 모질라 파이어폭스, 마이크로소프트 IE, Edge, 애플 사파리, 오페라 같은 주요 브라우저의 를 지원한다. -...\n",
      "제목:🎭 Playwright vs ✳️ Selenium, 테스트 자동화 툴 비교해보기\n",
      "내용:테스트 자동화 툴, Playwright과 Selenium 비교\n",
      "제목:Selenium 자동화 환경 설정, maven TestNG ChromeDriver\n",
      "내용:2023.04.13. selenium-start 자바 프로젝트 설정 - 셀레니움 웹 드라이버는 브라우저 자동화를 도와주는 라이브러리 이다. - 브라우저 자동화를 위해 필요한 것은 다음과 같다. (1)... 그리고 메이븐은 프로젝트 빌드에 필요한 라이브러리를 으로 다운로드 한다. - 이클립스와 메이븐을 사용하여, 셀레니움 웹드라이버 테스트 프레임워크를 하나의 프로그램에서...\n",
      "제목:[Python] 자동 로그인, 구매 등 매크로 만들기 (selenium 사용)\n",
      "내용:2022.01.20. 웹 사이트 열기 (chrome) 먼저 chromedriver-autoinstaller, selenium을 다운받고 코드를 실행해야 합니다. # 파일명 : main.py import chromedriver... set_window_size(1920, 1080) return driver 만약 위 코드를 사용하고 자동 로그인(아래에 코드 있음)을 시도했을 때 로그인이 막힌다면, 다음 코드를...\n",
      "제목:Python, Selenium 기반 웹 자동화 테스트 구현하기\n",
      "내용:2023.02.20. 웹 사이트에서 정보를 추출하는 크롤링 또는 테스트 자동화를 구현할 때 셀레니움 (Selenium) 라이브러리를 많이 사용합니다. 이번 포스팅에서는파이썬 개발환경 구축과 셀레니움으로 웹 테스트 자동화를 구현하는 방법에 대해 알아보겠습니다. 파이썬 프로그래밍 환경 구축 파이썬은 언어는 아래와 같은 특징이 있습니다. 인터프리터 언어 (코드 한줄 작성 후 바...\n",
      "제목:Selenium\n",
      "내용:Selenium automates browsers. That's it!\n",
      "제목:[Selenium] 로그인 자동화 프로그램 (캡차 우회)\n",
      "내용:2024.10.11. 아래는 코드는 네이버 로그인 캡차를 우회하지 않는 코드이다 from selenium import webdriver from selenium.webdriver.common.by import By from selenium.... 돌려보면 아래처럼 다시 로그인이 잘 된다!! 네이버 로그인이 필요한 다양한 서비스들을 할 수 있지만 절대 악용은 하지 말아야한다.\n",
      "제목:웹 브라우저(Browserless) 기반 자동화 도구, Playwright와 Selenium🐟\n",
      "내용:2024.06.20. Playwright와 Selenium은 둘 다 웹 브라우저를 자동화하여 웹 스크레이핑이나 웹 테스팅 등에 널리 사용되는 도구입니다. 최근에는 Playwright가 많은 주목을 받고 있으며, 이는 그 특징과 성능 때문입니다. 여러분의 회사에서 적합한 도구를 선택하는데 도움이 되도록 두 도구의 주요 차이점과 장단점을 비교해 드리겠습니다.기술적 특징 및 지...\n",
      "제목:[Selenium] UI자동화에서 자주 사용하는 메소드\n",
      "내용:2024.09.13. 위 글은 웹 UI 자동화 스크립트를 작성할 때 자주 사용하는 메서드를 기억하기 위해 기록하는 글입니다. 😊그럼 어김없이 피.언.감🙇♂️ (피드백은 언제나 감사합니다.)*드라이버는 크롬 드라이버 기준입니다.*✔️ WebDriver.get(\"url\")웹드라이버가 지정된 URL로 브라우저를 이동시키는 메서드이다.from import we...\n",
      "제목:[ 웹 브라우저 자동화 ] 효율적인 웹 애플리케이션 Selenium 모듈\n",
      "내용:2024.09.27. seleium 웹 브라우저 자동화 도구 활용법 [ Python으로 웹 작업 자동화 ]Selenium으로 자동화된 테스트와 웹 스크래핑 효율적으로 구현하기Selenium은 웹 브라우저를 프로그래밍적으로 제어할 수 있는 오픈 소스 [ 웹 브라우저 자동화 도구]로, 주로 P...\n",
      "제목:selenium을 이용한 웹 페이지 자동화 구현\n",
      "내용:2022.09.16. 웹 인터페이스를 사용하는 보안 솔루션을 이용하는데, 매일 전날 일일 통계 보고서를 출력해야 하는 일이 생겼다. 그래서 '한 번 자동화로 구현해보자'라는 생각을 가지게 되었고, 언제나 그랬듯이 신입은 시간이 매우 널널하다.. 바로 구현을 해봤다. 선택 이유 선택 이유는 아래 2가지다. 다른 언어로는 어떻게 해야할지 감도 오지 않았다. 1...\n",
      "제목:Selenium Manager (Beta)\n",
      "내용:2025.01.06. Selenium uses the native support implemented by each browser to carry out the automation process. For this reason, Selenium users need to place a component called driver (chromedriver, geckodriver, msedgedriver, etc.) between the script using the Selenium API and the browser. For many years, managing these drivers was a manual process for users. This way, they had to download the required driver for a browser (chromedriver for Chrome, geckodriver for Firefox, etc.) and place it in the P...\n",
      "제목:[웹 크롤링]네이버 블로그 업로드 자동화(SELENIUM & ChatGPT)\n",
      "내용:2024.05.30. [웹 크롤링]네이버 블로그 업로드 자동화(SELENIUM & ChatGPT)1. 필요한 라이브러리 불러오기import seleniumimport timefrom selenium import webdriverfrom selenium.webdriver.common.action_chains import ActionChainsimport pyperclip #...\n"
     ]
    }
   ],
   "source": [
    "driver=webdriver.Chrome()\n",
    "driver.get(\"https://www.naver.com\")\n",
    "time.sleep(3)\n",
    "\n",
    "search_box=driver.find_element('name',\"query\")\n",
    "search_box.send_keys(\"Selenium 자동화\")\n",
    "search_box.send_keys(Keys.ENTER)\n",
    "time.sleep(3)\n",
    "\n",
    "element1=driver.find_element(\"css selector\",\"a.group_more\")     # 검색결과 더보기 ->   click\n",
    "element1.click()\n",
    "\n",
    "news_list=driver.find_elements(\"css selector\",\"li.bx\")\n",
    "print(len(news_list))\n",
    "\n",
    "for news in news_list:\n",
    "    try:\n",
    "        title=news.find_element(\"css selector\", \"div.total_tit > a\")\n",
    "        content=news.find_element(\"css selector\", \"div.total_dsc_wrap\")\n",
    "        print(f\"제목:{title.text}\")     # f 포맷 제목이라는 타이틀 다음에 변수를 넣는 것\n",
    "        print(f\"내용:{content.text}\")\n",
    "    except:\n",
    "        pass"
   ]
  }
 ],
 "metadata": {
  "kernelspec": {
   "display_name": "base",
   "language": "python",
   "name": "python3"
  },
  "language_info": {
   "codemirror_mode": {
    "name": "ipython",
    "version": 3
   },
   "file_extension": ".py",
   "mimetype": "text/x-python",
   "name": "python",
   "nbconvert_exporter": "python",
   "pygments_lexer": "ipython3",
   "version": "3.12.7"
  }
 },
 "nbformat": 4,
 "nbformat_minor": 2
}
