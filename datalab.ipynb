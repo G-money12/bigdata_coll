{
 "cells": [
  {
   "cell_type": "markdown",
   "metadata": {},
   "source": [
    "naver_api\n",
    "\n",
    "# 데이터랩"
   ]
  },
  {
   "cell_type": "code",
   "execution_count": 3,
   "metadata": {},
   "outputs": [
    {
     "name": "stdout",
     "output_type": "stream",
     "text": [
      "{\"startDate\":\"2025-02-01\",\"endDate\":\"2025-03-25\",\"timeUnit\":\"month\",\"results\":[{\"title\":\"스티븐 제라드\",\"keywords\":[\"스티븐 제라드\",\"korean\"],\"data\":[{\"period\":\"2025-02-01\",\"ratio\":100},{\"period\":\"2025-03-01\",\"ratio\":81.21827}]},{\"title\":\"스티븐 제라드\",\"keywords\":[\"스티븐 제라드\",\"english\"],\"data\":[{\"period\":\"2025-02-01\",\"ratio\":100},{\"period\":\"2025-03-01\",\"ratio\":81.21827}]}]}\n"
     ]
    }
   ],
   "source": [
    "import os\n",
    "import sys\n",
    "import urllib.request\n",
    "client_id = \"VgwMCEHNus8GrM6LXDMs\"\n",
    "client_secret = \"ssDfrjA3_G\"\n",
    "url = \"https://openapi.naver.com/v1/datalab/search\";\n",
    "body = \"{\\\"startDate\\\":\\\"2025-02-24\\\",\\\"endDate\\\":\\\"2025-03-25\\\",\\\"timeUnit\\\":\\\"month\\\",\\\"keywordGroups\\\":[{\\\"groupName\\\":\\\"스티븐 제라드\\\",\\\"keywords\\\":[\\\"스티븐 제라드\\\",\\\"korean\\\"]},{\\\"groupName\\\":\\\"스티븐 제라드\\\",\\\"keywords\\\":[\\\"스티븐 제라드\\\",\\\"english\\\"]}],\\\"device\\\":\\\"pc\\\",\\\"ages\\\":[\\\"3\\\",\\\"4\\\"],\\\"gender\\\":\\\"m\\\"}\";\n",
    "\n",
    "request = urllib.request.Request(url)\n",
    "request.add_header(\"X-Naver-Client-Id\",client_id)\n",
    "request.add_header(\"X-Naver-Client-Secret\",client_secret)\n",
    "request.add_header(\"Content-Type\",\"application/json\")\n",
    "response = urllib.request.urlopen(request, data=body.encode(\"utf-8\"))\n",
    "rescode = response.getcode()\n",
    "if(rescode==200):\n",
    "    response_body = response.read()\n",
    "    print(response_body.decode('utf-8'))\n",
    "else:\n",
    "    print(\"Error Code:\" + rescode)"
   ]
  }
 ],
 "metadata": {
  "kernelspec": {
   "display_name": "base",
   "language": "python",
   "name": "python3"
  },
  "language_info": {
   "codemirror_mode": {
    "name": "ipython",
    "version": 3
   },
   "file_extension": ".py",
   "mimetype": "text/x-python",
   "name": "python",
   "nbconvert_exporter": "python",
   "pygments_lexer": "ipython3",
   "version": "3.12.7"
  }
 },
 "nbformat": 4,
 "nbformat_minor": 2
}
