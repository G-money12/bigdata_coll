{
 "cells": [
  {
   "cell_type": "markdown",
   "metadata": {},
   "source": [
    "# 동적 웹크롤링"
   ]
  },
  {
   "cell_type": "markdown",
   "metadata": {},
   "source": [
    "selenium 개발환경 구축"
   ]
  },
  {
   "cell_type": "code",
   "execution_count": 1,
   "metadata": {},
   "outputs": [],
   "source": [
    "# ! pip install selenium"
   ]
  },
  {
   "cell_type": "markdown",
   "metadata": {},
   "source": [
    "Chrome 브라우저를 생성 -> 웹 페이지 불러옴\n",
    "\n",
    "무조건 기다리기 time.sleep() -> 드라이브 종료"
   ]
  },
  {
   "cell_type": "code",
   "execution_count": 2,
   "metadata": {},
   "outputs": [],
   "source": [
    "from selenium import webdriver\n",
    "import time\n",
    "driver=webdriver.Chrome()\n",
    "\n",
    "driver.get(\"http://www.naver.com\")\n",
    "driver.implicitly_wait(10) # 위의 내용이 실행되는 동안 10초 기다림, 실행이 끝나면 즉시 다음 명령 실행\n",
    "#time.sleep(5) # 무조건 기다리기\n",
    "driver.quit()"
   ]
  },
  {
   "cell_type": "markdown",
   "metadata": {},
   "source": [
    "특정 요소 클릭하기"
   ]
  },
  {
   "cell_type": "code",
   "execution_count": 3,
   "metadata": {},
   "outputs": [
    {
     "ename": "InvalidSessionIdException",
     "evalue": "Message: invalid session id: session deleted as the browser has closed the connection\nfrom disconnected: not connected to DevTools\n  (Session info: chrome=134.0.6998.36)\nStacktrace:\n\tGetHandleVerifier [0x00007FF6DCDAFE45+26629]\n\t(No symbol) [0x00007FF6DCD16010]\n\t(No symbol) [0x00007FF6DCBA931A]\n\t(No symbol) [0x00007FF6DCB94F65]\n\t(No symbol) [0x00007FF6DCBB9E04]\n\t(No symbol) [0x00007FF6DCC2F85F]\n\t(No symbol) [0x00007FF6DCC4FA55]\n\t(No symbol) [0x00007FF6DCC27883]\n\t(No symbol) [0x00007FF6DCBF0550]\n\t(No symbol) [0x00007FF6DCBF1803]\n\tGetHandleVerifier [0x00007FF6DD1072BD+3529853]\n\tGetHandleVerifier [0x00007FF6DD11DA22+3621858]\n\tGetHandleVerifier [0x00007FF6DD1124D3+3575443]\n\tGetHandleVerifier [0x00007FF6DCE7B77A+860474]\n\t(No symbol) [0x00007FF6DCD2088F]\n\t(No symbol) [0x00007FF6DCD1CBC4]\n\t(No symbol) [0x00007FF6DCD1CD66]\n\t(No symbol) [0x00007FF6DCD0C2C9]\n\tBaseThreadInitThunk [0x00007FF892DE7374+20]\n\tRtlUserThreadStart [0x00007FF894D9CC91+33]\n",
     "output_type": "error",
     "traceback": [
      "\u001b[1;31m---------------------------------------------------------------------------\u001b[0m",
      "\u001b[1;31mInvalidSessionIdException\u001b[0m                 Traceback (most recent call last)",
      "Cell \u001b[1;32mIn[3], line 4\u001b[0m\n\u001b[0;32m      2\u001b[0m driver\u001b[38;5;241m.\u001b[39mget(\u001b[38;5;124m\"\u001b[39m\u001b[38;5;124mhttp://www.google.com\u001b[39m\u001b[38;5;124m\"\u001b[39m)\n\u001b[0;32m      3\u001b[0m time\u001b[38;5;241m.\u001b[39msleep(\u001b[38;5;241m5\u001b[39m)\n\u001b[1;32m----> 4\u001b[0m button\u001b[38;5;241m=\u001b[39mdriver\u001b[38;5;241m.\u001b[39mfind_element(\u001b[38;5;124m'\u001b[39m\u001b[38;5;124mlink text\u001b[39m\u001b[38;5;124m'\u001b[39m,\u001b[38;5;124m'\u001b[39m\u001b[38;5;124mGmail\u001b[39m\u001b[38;5;124m'\u001b[39m)     \u001b[38;5;66;03m# a 태그 텍스트에서 Gmail이 들어있는 것\u001b[39;00m\n\u001b[0;32m      5\u001b[0m button\u001b[38;5;241m.\u001b[39mclick()\n\u001b[0;32m      6\u001b[0m time\u001b[38;5;241m.\u001b[39msleep(\u001b[38;5;241m5\u001b[39m)\n",
      "File \u001b[1;32mc:\\Users\\it\\anaconda3\\Lib\\site-packages\\selenium\\webdriver\\remote\\webdriver.py:898\u001b[0m, in \u001b[0;36mWebDriver.find_element\u001b[1;34m(self, by, value)\u001b[0m\n\u001b[0;32m    895\u001b[0m         \u001b[38;5;28;01mraise\u001b[39;00m NoSuchElementException(\u001b[38;5;124mf\u001b[39m\u001b[38;5;124m\"\u001b[39m\u001b[38;5;124mCannot locate relative element with: \u001b[39m\u001b[38;5;132;01m{\u001b[39;00mby\u001b[38;5;241m.\u001b[39mroot\u001b[38;5;132;01m}\u001b[39;00m\u001b[38;5;124m\"\u001b[39m)\n\u001b[0;32m    896\u001b[0m     \u001b[38;5;28;01mreturn\u001b[39;00m elements[\u001b[38;5;241m0\u001b[39m]\n\u001b[1;32m--> 898\u001b[0m \u001b[38;5;28;01mreturn\u001b[39;00m \u001b[38;5;28mself\u001b[39m\u001b[38;5;241m.\u001b[39mexecute(Command\u001b[38;5;241m.\u001b[39mFIND_ELEMENT, {\u001b[38;5;124m\"\u001b[39m\u001b[38;5;124musing\u001b[39m\u001b[38;5;124m\"\u001b[39m: by, \u001b[38;5;124m\"\u001b[39m\u001b[38;5;124mvalue\u001b[39m\u001b[38;5;124m\"\u001b[39m: value})[\u001b[38;5;124m\"\u001b[39m\u001b[38;5;124mvalue\u001b[39m\u001b[38;5;124m\"\u001b[39m]\n",
      "File \u001b[1;32mc:\\Users\\it\\anaconda3\\Lib\\site-packages\\selenium\\webdriver\\remote\\webdriver.py:429\u001b[0m, in \u001b[0;36mWebDriver.execute\u001b[1;34m(self, driver_command, params)\u001b[0m\n\u001b[0;32m    427\u001b[0m response \u001b[38;5;241m=\u001b[39m \u001b[38;5;28mself\u001b[39m\u001b[38;5;241m.\u001b[39mcommand_executor\u001b[38;5;241m.\u001b[39mexecute(driver_command, params)\n\u001b[0;32m    428\u001b[0m \u001b[38;5;28;01mif\u001b[39;00m response:\n\u001b[1;32m--> 429\u001b[0m     \u001b[38;5;28mself\u001b[39m\u001b[38;5;241m.\u001b[39merror_handler\u001b[38;5;241m.\u001b[39mcheck_response(response)\n\u001b[0;32m    430\u001b[0m     response[\u001b[38;5;124m\"\u001b[39m\u001b[38;5;124mvalue\u001b[39m\u001b[38;5;124m\"\u001b[39m] \u001b[38;5;241m=\u001b[39m \u001b[38;5;28mself\u001b[39m\u001b[38;5;241m.\u001b[39m_unwrap_value(response\u001b[38;5;241m.\u001b[39mget(\u001b[38;5;124m\"\u001b[39m\u001b[38;5;124mvalue\u001b[39m\u001b[38;5;124m\"\u001b[39m, \u001b[38;5;28;01mNone\u001b[39;00m))\n\u001b[0;32m    431\u001b[0m     \u001b[38;5;28;01mreturn\u001b[39;00m response\n",
      "File \u001b[1;32mc:\\Users\\it\\anaconda3\\Lib\\site-packages\\selenium\\webdriver\\remote\\errorhandler.py:232\u001b[0m, in \u001b[0;36mErrorHandler.check_response\u001b[1;34m(self, response)\u001b[0m\n\u001b[0;32m    230\u001b[0m         alert_text \u001b[38;5;241m=\u001b[39m value[\u001b[38;5;124m\"\u001b[39m\u001b[38;5;124malert\u001b[39m\u001b[38;5;124m\"\u001b[39m]\u001b[38;5;241m.\u001b[39mget(\u001b[38;5;124m\"\u001b[39m\u001b[38;5;124mtext\u001b[39m\u001b[38;5;124m\"\u001b[39m)\n\u001b[0;32m    231\u001b[0m     \u001b[38;5;28;01mraise\u001b[39;00m exception_class(message, screen, stacktrace, alert_text)  \u001b[38;5;66;03m# type: ignore[call-arg]  # mypy is not smart enough here\u001b[39;00m\n\u001b[1;32m--> 232\u001b[0m \u001b[38;5;28;01mraise\u001b[39;00m exception_class(message, screen, stacktrace)\n",
      "\u001b[1;31mInvalidSessionIdException\u001b[0m: Message: invalid session id: session deleted as the browser has closed the connection\nfrom disconnected: not connected to DevTools\n  (Session info: chrome=134.0.6998.36)\nStacktrace:\n\tGetHandleVerifier [0x00007FF6DCDAFE45+26629]\n\t(No symbol) [0x00007FF6DCD16010]\n\t(No symbol) [0x00007FF6DCBA931A]\n\t(No symbol) [0x00007FF6DCB94F65]\n\t(No symbol) [0x00007FF6DCBB9E04]\n\t(No symbol) [0x00007FF6DCC2F85F]\n\t(No symbol) [0x00007FF6DCC4FA55]\n\t(No symbol) [0x00007FF6DCC27883]\n\t(No symbol) [0x00007FF6DCBF0550]\n\t(No symbol) [0x00007FF6DCBF1803]\n\tGetHandleVerifier [0x00007FF6DD1072BD+3529853]\n\tGetHandleVerifier [0x00007FF6DD11DA22+3621858]\n\tGetHandleVerifier [0x00007FF6DD1124D3+3575443]\n\tGetHandleVerifier [0x00007FF6DCE7B77A+860474]\n\t(No symbol) [0x00007FF6DCD2088F]\n\t(No symbol) [0x00007FF6DCD1CBC4]\n\t(No symbol) [0x00007FF6DCD1CD66]\n\t(No symbol) [0x00007FF6DCD0C2C9]\n\tBaseThreadInitThunk [0x00007FF892DE7374+20]\n\tRtlUserThreadStart [0x00007FF894D9CC91+33]\n"
     ]
    }
   ],
   "source": [
    "driver=webdriver.Chrome()\n",
    "driver.get(\"http://www.google.com\")\n",
    "time.sleep(5)\n",
    "button=driver.find_element('link text','Gmail')     # a 태그 텍스트에서 Gmail이 들어있는 것\n",
    "button.click()\n",
    "time.sleep(5)\n",
    "driver.quit()"
   ]
  },
  {
   "cell_type": "markdown",
   "metadata": {},
   "source": [
    "키보드 입력하기"
   ]
  },
  {
   "cell_type": "code",
   "execution_count": null,
   "metadata": {},
   "outputs": [],
   "source": [
    "from selenium.webdriver.common.keys import Keys\n",
    "driver=webdriver.Chrome()\n",
    "driver.get(\"http://www.google.com\")\n",
    "driver.implicitly_wait(10)\n",
    "#time.sleep(10)\n",
    "\n",
    "search_box=driver.find_element(\"name\",\"q\")\n",
    "search_box.send_keys(\"파이썬\")\n",
    "search_box.send_keys(Keys.ENTER)\n",
    "time.sleep(20)\n",
    "driver.quit()"
   ]
  },
  {
   "cell_type": "markdown",
   "metadata": {},
   "source": [
    "네이버 도전"
   ]
  },
  {
   "cell_type": "code",
   "execution_count": null,
   "metadata": {},
   "outputs": [],
   "source": [
    "from selenium.webdriver.common.keys import Keys\n",
    "driver=webdriver.Edge()\n",
    "driver.get(\"https://www.naver.com/\")\n",
    "driver.implicitly_wait(10)\n",
    "\n",
    "search_box=driver.find_element(\"name\",\"query\")\n",
    "search_box.send_keys(\"Java\")\n",
    "search_box.send_keys(Keys.ENTER)\n",
    "time.sleep(20)\n",
    "driver.quit()"
   ]
  },
  {
   "cell_type": "markdown",
   "metadata": {},
   "source": [
    "google 실습"
   ]
  },
  {
   "cell_type": "code",
   "execution_count": null,
   "metadata": {},
   "outputs": [
    {
     "name": "stdout",
     "output_type": "stream",
     "text": [
      "WebDreiver 객체 :  <class 'selenium.webdriver.chrome.webdriver.WebDriver'>\n",
      "찾아온 태그 객체 : <class 'selenium.webdriver.remote.webelement.WebElement'>\n"
     ]
    }
   ],
   "source": [
    "from selenium import webdriver\n",
    "from selenium.webdriver.common.keys import Keys\n",
    "from selenium.webdriver.common.by import By\n",
    "\n",
    "driver=webdriver.Chrome()\n",
    "print(\"WebDreiver 객체 : \", type(driver))\n",
    "\n",
    "driver.get('http://www.google.com/ncr')\n",
    "target=driver.find_element(By.CSS_SELECTOR, \"[name='q']\")\n",
    "print(\"찾아온 태그 객체 :\", type(target))\n",
    "target.send_keys('파이썬')\n",
    "target.send_keys(Keys.ENTER)"
   ]
  },
  {
   "cell_type": "markdown",
   "metadata": {},
   "source": [
    "메서드를 사용한 웹 페이지 파싱(다양한 파싱 메소드)"
   ]
  },
  {
   "cell_type": "code",
   "execution_count": null,
   "metadata": {},
   "outputs": [
    {
     "name": "stdout",
     "output_type": "stream",
     "text": [
      "WebDreiver 객체 :  <class 'selenium.webdriver.edge.webdriver.WebDriver'>\n",
      "찾아온 태그 객체 : <class 'selenium.webdriver.remote.webelement.WebElement'>\n"
     ]
    }
   ],
   "source": [
    "from selenium import webdriver\n",
    "from selenium.webdriver.common.keys import Keys\n",
    "from selenium.webdriver.common.by import By\n",
    "\n",
    "driver=webdriver.Edge()\n",
    "print(\"WebDreiver 객체 : \", type(driver))\n",
    "driver.get('https://www.naver.com/')\n",
    "#target=driver.find_element(By.CSS_SELECTOR, \"[name='query']\")  # html의 name을 활용한\n",
    "#target=driver.find_element(By.NAME,\"query\")                    # html의 name을 활용한\n",
    "#target=driver.find_element(By.ID,\"query\")                      # html의 id를 활용한\n",
    "target=driver.find_element(By.CLASS_NAME,\"search_input\")        # html의 class를 활용한\n",
    "print(\"찾아온 태그 객체 :\", type(target))\n",
    "target.send_keys('파이썬')\n",
    "target.send_keys(Keys.ENTER)"
   ]
  },
  {
   "cell_type": "markdown",
   "metadata": {},
   "source": [
    "Java Script 실행 ㄱㄱ\n",
    "\n",
    "scroll 내리기"
   ]
  },
  {
   "cell_type": "code",
   "execution_count": null,
   "metadata": {},
   "outputs": [],
   "source": [
    "driver=webdriver.Chrome()\n",
    "driver.get(\"https://news.google.com\")\n",
    "time.sleep(5)\n",
    "# 페이지 맨 아래로 스크롤\n",
    "driver.execute_script(\"window.scrollTo(0, document.body.scrollHeight);\")        # JavaScript는 명령어 끝나면 ; 쓰기 scroll 내리기\n",
    "time.sleep(5)\n",
    "driver.quit()\n"
   ]
  },
  {
   "cell_type": "markdown",
   "metadata": {},
   "source": [
    "Java Script로 새창 열기\n",
    "\n",
    "다른페이지 open 해 보자 \n",
    "\n",
    "window.open(\"url\")"
   ]
  },
  {
   "cell_type": "code",
   "execution_count": 8,
   "metadata": {},
   "outputs": [],
   "source": [
    "driver=webdriver.Chrome()\n",
    "driver.get(\"https://www.google.com\")\n",
    "time.sleep(5)\n",
    "#새창 열기\n",
    "driver.execute_script(\"window.open('https://naver.com');\")\n",
    "time.sleep(5)\n",
    "\n",
    "driver.execute_script(\"window.open('https://www.daum.net/');\")\n",
    "time.sleep(5)\n",
    "\n",
    "\n",
    "# 창 핸들 가져오기\n",
    "window=driver.window_handles\n",
    "driver.switch_to.window(window[0])\n",
    "time.sleep(5)\n",
    "driver.quit()\n"
   ]
  },
  {
   "cell_type": "code",
   "execution_count": null,
   "metadata": {},
   "outputs": [
    {
     "name": "stdout",
     "output_type": "stream",
     "text": [
      "HTML Tutorial\n"
     ]
    }
   ],
   "source": [
    "driver=webdriver.Chrome()\n",
    "driver.get('https://www.w3schools.com/html/html_iframe.asp')\n",
    "time.sleep(3)\n",
    "\n",
    "# 페이지 전환, iframe 안의 콘텐츠 로딩된 콘텐츠를 가져오라\n",
    "iframe=driver.find_element(\"css selector\", \"iframe[src*='default.asp']\")\n",
    "driver.switch_to.frame(iframe)                          # iframe에 핸들을 맞춤\n",
    "\n",
    "element=driver.find_element('css selector', \"h1\")       # iframe 내부에 h1태그를 찾아라\n",
    "print(element.text)\n",
    "\n",
    "time.sleep(3)\n",
    "driver.quit()"
   ]
  },
  {
   "cell_type": "code",
   "execution_count": null,
   "metadata": {},
   "outputs": [
    {
     "name": "stdout",
     "output_type": "stream",
     "text": [
      "Learn HTML\n",
      "HTML is the standard markup language for Web pages.\n",
      "With HTML you can create your own Website.\n",
      "HTML is easy to learn - You will enjoy it!\n",
      "Start learning HTML now »\n"
     ]
    }
   ],
   "source": [
    "driver=webdriver.Chrome()\n",
    "driver.get('https://www.w3schools.com/html/html_iframe.asp')\n",
    "time.sleep(3)\n",
    "\n",
    "# 페이지 전환, iframe 안의 콘텐츠 로딩된 콘텐츠를 가져오라\n",
    "iframe=driver.find_element(\"css selector\", \"iframe[src*='default.asp']\")\n",
    "driver.switch_to.frame(iframe)                          # iframe \n",
    "\n",
    "element=driver.find_element('css selector', \"#main > div.w3-panel.w3-info.intro\")       # find_element 단수계 , find_elements 복수계\n",
    "print(element.text)\n",
    "\n",
    "time.sleep(3)\n",
    "driver.quit()"
   ]
  },
  {
   "cell_type": "code",
   "execution_count": 18,
   "metadata": {},
   "outputs": [
    {
     "name": "stdout",
     "output_type": "stream",
     "text": [
      "추가된 쿠키 확인\n",
      "pgm G\n"
     ]
    }
   ],
   "source": [
    "driver=webdriver.Chrome()\n",
    "driver.get(\"http://www.google.com\")\n",
    "time.sleep(3)\n",
    "\n",
    "# print(\"기존의 쿠키 정보 출력\")\n",
    "# print(driver.get_cookies())\n",
    "\n",
    "driver.add_cookie({'name':'pgm','value':\"G\"})\n",
    "driver.refresh()\n",
    "time.sleep(3)\n",
    "\n",
    "print(\"추가된 쿠키 확인\")\n",
    "cookies=driver.get_cookies()\n",
    "# print(cookies)\n",
    "\n",
    "for cookie in cookies:\n",
    "    if cookie['name']=='pgm':\n",
    "        print(cookie['name'], cookie['value'])\n",
    "\n",
    "time.sleep(5)\n",
    "driver.quit()"
   ]
  },
  {
   "cell_type": "markdown",
   "metadata": {},
   "source": [
    "Capture"
   ]
  },
  {
   "cell_type": "code",
   "execution_count": 19,
   "metadata": {},
   "outputs": [],
   "source": [
    "driver=webdriver.Chrome()\n",
    "driver.get(\"https://www.google.com\")\n",
    "time.sleep(3)\n",
    "\n",
    "driver.save_screenshot(\"data/test_screenshot.png\")\n",
    "driver.quit()"
   ]
  }
 ],
 "metadata": {
  "kernelspec": {
   "display_name": "base",
   "language": "python",
   "name": "python3"
  },
  "language_info": {
   "codemirror_mode": {
    "name": "ipython",
    "version": 3
   },
   "file_extension": ".py",
   "mimetype": "text/x-python",
   "name": "python",
   "nbconvert_exporter": "python",
   "pygments_lexer": "ipython3",
   "version": "3.12.7"
  }
 },
 "nbformat": 4,
 "nbformat_minor": 2
}
