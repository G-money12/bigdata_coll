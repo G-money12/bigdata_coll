{
 "cells": [
  {
   "cell_type": "markdown",
   "metadata": {},
   "source": [
    "# never\n",
    "\n",
    "naver > Application"
   ]
  },
  {
   "cell_type": "markdown",
   "metadata": {},
   "source": [
    " 네이버 검색 API 예제 - 블로그 검색\n",
    " \n",
    " Python"
   ]
  },
  {
   "cell_type": "code",
   "execution_count": null,
   "metadata": {},
   "outputs": [],
   "source": [
    "# 네이버 검색 API 예제 - 블로그 검색\n",
    "import os\n",
    "import sys\n",
    "import urllib.request\n",
    "client_id = \"YOUR_CLIENT_ID\"                # 당신의 네이버 id 입력\n",
    "client_secret = \"YOUR_CLIENT_SECRET\"        # 당신의 네이버 secret 입력\n",
    "encText = urllib.parse.quote(\"검색할 단어\")\n",
    "url = \"https://openapi.naver.com/v1/search/blog?query=\" + encText # JSON 결과       당신이 찾고싶은 곳은? blog?, news?, image?, 등등\n",
    "# url = \"https://openapi.naver.com/v1/search/blog.xml?query=\" + encText # XML 결과\n",
    "request = urllib.request.Request(url)\n",
    "request.add_header(\"X-Naver-Client-Id\",client_id)\n",
    "request.add_header(\"X-Naver-Client-Secret\",client_secret)\n",
    "response = urllib.request.urlopen(request)\n",
    "rescode = response.getcode()\n",
    "if(rescode==200):\n",
    "    response_body = response.read()\n",
    "    print(response_body.decode('utf-8'))\n",
    "else:\n",
    "    print(\"Error Code:\" + rescode)"
   ]
  },
  {
   "cell_type": "code",
   "execution_count": 43,
   "metadata": {},
   "outputs": [
    {
     "name": "stdout",
     "output_type": "stream",
     "text": [
      "[{'title': \"'리버풀 트로피 들고 망하나?'…아놀드, 우승 퍼레이드에서 레알 이적 ...\", 'originallink': 'https://www.xportsnews.com/article/1977105', 'link': 'https://m.sports.naver.com/wfootball/article/311/0001842392', 'description': '과거 <b>스티븐 제라드</b>가 떠났을 때와는 또 다른 의미로, 이번 이적은 클럽과 선수 사이의 새로운 시대적 변화를 상징한다. 리버풀이 아놀드 없는 미래를 어떻게 준비할지, 그리고 아놀드가 레알 마드리드에서 어떤 스토리를... ', 'pubDate': 'Tue, 25 Mar 2025 08:25:00 +0900'}, {'title': \"[속보]레알 마드리드, EPL 역대급 배신자 만들었다!...'성골 유스+부주장...\", 'originallink': 'https://sports.chosun.com/football/2025-03-24/202503250100163210023615', 'link': 'https://m.sports.naver.com/wfootball/article/076/0004257992', 'description': '아놀드는 리버풀에서 <b>스티븐 제라드</b>의 뒤를 이어가는 성골 계보를 담당하고 있던 선수였다. 리버풀에서만 성장해, 임대도 다녀오지 않고, 곧바로 1군으로 올라와서 주전까지 도약한 아놀드였다. 아놀드는 리버풀에서... ', 'pubDate': 'Tue, 25 Mar 2025 00:02:00 +0900'}, {'title': '한때 <b>제라드</b>-램파드-KDB 모두 넘었는데...英원더키드 결국 몰락? &quot;천재성...', 'originallink': 'https://www.interfootball.co.kr/news/articleView.html?idxno=654088', 'link': 'https://m.sports.naver.com/wfootball/article/413/0000194313', 'description': \"'데일리 메일'은 &quot;그는 '논 PK 28골'을 기록하며 21세기 미드필더 중 프랭크 램파드, 케빈 더브라이위너, <b>스티븐 제라드</b>, 야야 투레 등 전설들의 한 해 득점을 모두 능가했다. 이 기록을 되짚어 보면 포든이 얼마나 뛰어난... \", 'pubDate': 'Mon, 24 Mar 2025 22:50:00 +0900'}, {'title': '‘답답해서 내가 뛴다?’ 44세 장신 前 리버풀 FW, 첼시와 레전드 매치서...', 'originallink': 'https://www.sportalkorea.com/news/view.php?gisa_uniq=2025032417282324&section_code=2010&cp=se&sp=A', 'link': 'https://m.sports.naver.com/wfootball/article/139/0002220505', 'description': '자선 모금 활동을 지원하기 위해 열린 이 경기는 <b>스티븐 제라드</b>, 마르틴 슈크르텔, 예지 두덱 등 추억의 스타들이 대거 등장해 재미를 더했다. 결과는 2-0 리버풀 레전드들의 대승이었다. 이날 승리의 수훈은 단연... ', 'pubDate': 'Mon, 24 Mar 2025 21:41:00 +0900'}, {'title': \"10년전 오늘, <b>제라드</b>가 무너졌다…전설로 남은 '38초 퇴장'\", 'originallink': 'https://www.fourfourtwo.co.kr/news/articleView.html?idxno=69531', 'link': 'https://m.sports.naver.com/wfootball/article/411/0000060983', 'description': \"리버풀의 '붉은 심장' <b>스티븐 제라드</b>가 그 주인공이다. 리버풀에서 자그마치 29년간 선수 생활을 이어갔던 제라드. 10년전 오늘, 그의 커리어에 오점으로 남은 대표적인 사건이 발생했다. 제라드는 2015년 3월 23일, 맨체스터... \", 'pubDate': 'Sun, 23 Mar 2025 00:47:00 +0900'}, {'title': \"'명선수는 명감독 될 수 없다'...맨유 전설 또 증명, &quot;PL 역사상 유일한...\", 'originallink': 'https://www.interfootball.co.kr/news/articleView.html?idxno=653860', 'link': 'https://m.sports.naver.com/wfootball/article/413/0000194128', 'description': '실제로 웨인 루니, <b>스티븐 제라드</b>, 프랭크 램파드, 티에리 앙리 등 프리미어리그를 수놓은 여러 스타 선수들이 감독으로서 잔혹사를 쓰는 케이스가 잦았다. 여기에 판 니스텔로이도 이름을 올릴 예정이다.', 'pubDate': 'Fri, 21 Mar 2025 18:50:00 +0900'}, {'title': '첼시 팔머, 레전드들로부터 팀 이적 권유 받아', 'originallink': 'https://www.jemin.com/news/articleView.html?idxno=792141', 'link': 'https://www.jemin.com/news/articleView.html?idxno=792141', 'description': '그는 팔머의 플레이 스타일이 리버풀의 <b>스티븐 제라드</b>와 유사하다며, 제라드 역시 초기 리버풀 생활에서 어려움을 겪었다고 회상했다. 스콜스 역시 동일한 의견을 피력했다. 그는 팔머가... ', 'pubDate': 'Fri, 21 Mar 2025 08:06:00 +0900'}, {'title': '‘78경기 39골 21AS’ MF에게 충격적인 조언 나왔다→EPL레전드들 “팀을...', 'originallink': 'https://mydaily.co.kr/page/view/2025031909332892911', 'link': 'https://m.sports.naver.com/wfootball/article/117/0003923894', 'description': '기사에 따르면 제이미 캐러거는 현재 팔머가 어려움을 겪고 있는데 이는 마치 리버풀에서의 초기 시절 <b>스티븐 제라드</b>의 어려움과 비교된다고 지적했다. 맨유에서만 뛰었던 폴 스콜스도 “첼시를 떠나라”라고 똑같은... ', 'pubDate': 'Fri, 21 Mar 2025 06:50:00 +0900'}, {'title': \"첼시의 '부관참시'…'미끄러지다' <b>제라드</b> 인생 최악의 순간을 뎀바바가...\", 'originallink': 'http://www.footballist.co.kr/news/articleView.html?idxno=194978', 'link': 'https://m.sports.naver.com/wfootball/article/436/0000096384', 'description': '리버풀은 <b>스티븐 제라드</b>, 사미 하피아, 마르틴 슈크르텔, 지브릴 시세, 디르크 카윗, 예지 두덱 등이 참여한다. 레전드 매치를 이틀 앞두고 첼시가 화제성을 높이기 위해 도발을 감행했다. 첼시와 리버풀은 2013-2014시즌... ', 'pubDate': 'Thu, 20 Mar 2025 16:40:00 +0900'}, {'title': '[속보]레알 마드리드 미쳤다! 리버풀 월클 풀백, 0원에 품었다...이적 9...', 'originallink': 'https://sports.chosun.com/football/2025-03-20/202503200100132610019410', 'link': 'https://m.sports.naver.com/wfootball/article/076/0004256316', 'description': '부주장까지 맡으면서 <b>스티븐 제라드</b> 이후로 가장 충성심이 넘치는 성골 유스처럼 보였다. 레전드 반열에 오르는 건 시간문제였다. 벌써 리버풀에서 350경기 출전을 앞두고 있으며 리버풀에서 할 수 있는 모든 우승을 다... ', 'pubDate': 'Thu, 20 Mar 2025 15:01:00 +0900'}]\n",
      "'리버풀 트로피 들고 망하나?'…아놀드, 우승 퍼레이드에서 레알 이적 ...\n",
      "https://m.sports.naver.com/wfootball/article/311/0001842392\n",
      "Tue, 25 Mar 2025 08:25:00 +0900\n",
      "과거 스티븐 제라드</b>가 떠났을 때와는 또 다른 의미로, 이번 이적은 클럽과 선수 사이의 새로운 시대적 변화를 상징한다. 리버풀이 아놀드 없는 미래를 어떻게 준비할지, 그리고 아놀드가 레알 마드리드에서 어떤 스토리를... \n",
      "[속보]레알 마드리드, EPL 역대급 배신자 만들었다!...'성골 유스+부주장...\n",
      "https://m.sports.naver.com/wfootball/article/076/0004257992\n",
      "Tue, 25 Mar 2025 00:02:00 +0900\n",
      "아놀드는 리버풀에서 스티븐 제라드</b>의 뒤를 이어가는 성골 계보를 담당하고 있던 선수였다. 리버풀에서만 성장해, 임대도 다녀오지 않고, 곧바로 1군으로 올라와서 주전까지 도약한 아놀드였다. 아놀드는 리버풀에서... \n",
      "한때 제라드</b>-램파드-KDB 모두 넘었는데...英원더키드 결국 몰락? &quot;천재성...\n",
      "https://m.sports.naver.com/wfootball/article/413/0000194313\n",
      "Mon, 24 Mar 2025 22:50:00 +0900\n",
      "'데일리 메일'은 &quot;그는 '논 PK 28골'을 기록하며 21세기 미드필더 중 프랭크 램파드, 케빈 더브라이위너, 스티븐 제라드</b>, 야야 투레 등 전설들의 한 해 득점을 모두 능가했다. 이 기록을 되짚어 보면 포든이 얼마나 뛰어난... \n",
      "‘답답해서 내가 뛴다?’ 44세 장신 前 리버풀 FW, 첼시와 레전드 매치서...\n",
      "https://m.sports.naver.com/wfootball/article/139/0002220505\n",
      "Mon, 24 Mar 2025 21:41:00 +0900\n",
      "자선 모금 활동을 지원하기 위해 열린 이 경기는 스티븐 제라드</b>, 마르틴 슈크르텔, 예지 두덱 등 추억의 스타들이 대거 등장해 재미를 더했다. 결과는 2-0 리버풀 레전드들의 대승이었다. 이날 승리의 수훈은 단연... \n",
      "10년전 오늘, 제라드</b>가 무너졌다…전설로 남은 '38초 퇴장'\n",
      "https://m.sports.naver.com/wfootball/article/411/0000060983\n",
      "Sun, 23 Mar 2025 00:47:00 +0900\n",
      "리버풀의 '붉은 심장' 스티븐 제라드</b>가 그 주인공이다. 리버풀에서 자그마치 29년간 선수 생활을 이어갔던 제라드. 10년전 오늘, 그의 커리어에 오점으로 남은 대표적인 사건이 발생했다. 제라드는 2015년 3월 23일, 맨체스터... \n",
      "'명선수는 명감독 될 수 없다'...맨유 전설 또 증명, &quot;PL 역사상 유일한...\n",
      "https://m.sports.naver.com/wfootball/article/413/0000194128\n",
      "Fri, 21 Mar 2025 18:50:00 +0900\n",
      "실제로 웨인 루니, 스티븐 제라드</b>, 프랭크 램파드, 티에리 앙리 등 프리미어리그를 수놓은 여러 스타 선수들이 감독으로서 잔혹사를 쓰는 케이스가 잦았다. 여기에 판 니스텔로이도 이름을 올릴 예정이다.\n",
      "첼시 팔머, 레전드들로부터 팀 이적 권유 받아\n",
      "https://www.jemin.com/news/articleView.html?idxno=792141\n",
      "Fri, 21 Mar 2025 08:06:00 +0900\n",
      "그는 팔머의 플레이 스타일이 리버풀의 스티븐 제라드</b>와 유사하다며, 제라드 역시 초기 리버풀 생활에서 어려움을 겪었다고 회상했다. 스콜스 역시 동일한 의견을 피력했다. 그는 팔머가... \n",
      "‘78경기 39골 21AS’ MF에게 충격적인 조언 나왔다→EPL레전드들 “팀을...\n",
      "https://m.sports.naver.com/wfootball/article/117/0003923894\n",
      "Fri, 21 Mar 2025 06:50:00 +0900\n",
      "기사에 따르면 제이미 캐러거는 현재 팔머가 어려움을 겪고 있는데 이는 마치 리버풀에서의 초기 시절 스티븐 제라드</b>의 어려움과 비교된다고 지적했다. 맨유에서만 뛰었던 폴 스콜스도 “첼시를 떠나라”라고 똑같은... \n",
      "첼시의 '부관참시'…'미끄러지다' 제라드</b> 인생 최악의 순간을 뎀바바가...\n",
      "https://m.sports.naver.com/wfootball/article/436/0000096384\n",
      "Thu, 20 Mar 2025 16:40:00 +0900\n",
      "리버풀은 스티븐 제라드</b>, 사미 하피아, 마르틴 슈크르텔, 지브릴 시세, 디르크 카윗, 예지 두덱 등이 참여한다. 레전드 매치를 이틀 앞두고 첼시가 화제성을 높이기 위해 도발을 감행했다. 첼시와 리버풀은 2013-2014시즌... \n",
      "[속보]레알 마드리드 미쳤다! 리버풀 월클 풀백, 0원에 품었다...이적 9...\n",
      "https://m.sports.naver.com/wfootball/article/076/0004256316\n",
      "Thu, 20 Mar 2025 15:01:00 +0900\n",
      "부주장까지 맡으면서 스티븐 제라드</b> 이후로 가장 충성심이 넘치는 성골 유스처럼 보였다. 레전드 반열에 오르는 건 시간문제였다. 벌써 리버풀에서 350경기 출전을 앞두고 있으며 리버풀에서 할 수 있는 모든 우승을 다... \n"
     ]
    }
   ],
   "source": [
    "import os           # \n",
    "import sys\n",
    "import urllib.request       # 공공DB 가져올때 항상 쓰죠\n",
    "import json\n",
    "import re\n",
    "client_id = \"dLMnxRa5UjmorywvuRFB\"\n",
    "client_secret = \"HxwMb59FIK\"\n",
    "encText = urllib.parse.quote(\"스티븐 제라드\")  # 한글로 인코딩, (\"검색할 단어\")\n",
    "url = \"https://openapi.naver.com/v1/search/news?query=\" + encText # JSON 결과 (뒤에 .xml이 아니면 JSON으로 결과값 돌려줌)\n",
    "# url = \"https://openapi.naver.com/v1/search/blog.xml?query=\" + encText # XML 결과\n",
    "request = urllib.request.Request(url)       # 이 url로 request를 하고, 헤드를 붙여줘야함 -> request 객체 생성\n",
    "request.add_header(\"X-Naver-Client-Id\",client_id)       # 추가를 먼저 해준다\n",
    "request.add_header(\"X-Naver-Client-Secret\",client_secret)\n",
    "response = urllib.request.urlopen(request)      # 리스판스 결과를 받아왔고\n",
    "rescode = response.getcode()                    # 성공했으면 200을 결과값으로 준다.\n",
    "item_list=[]                           # list 만들기\n",
    "if(rescode==200):                               # 읽어온 내용을 utf-8로 디코드 해서 \n",
    "    response_body = response.read()\n",
    "    result=json.loads(response_body.decode('utf-8'))        # 파일을 json 형태로 부를때는 load , \n",
    "    items=result['items']\n",
    "    print(items)\n",
    "    for item in items:\n",
    "        #title=''.join(re.findall(r'[가-힣0-9 ]',item['title']))\n",
    "        title=item['title'].replace('&quout','').replace('<b>','').replace('<b>','')\n",
    "        link=item['link']\n",
    "        pubDate=item['pubDate']\n",
    "        description=item['description'].replace('&quout','').replace('<b>','').replace('<b>','')\n",
    "        print(title)\n",
    "        print(link)\n",
    "        print(pubDate)\n",
    "        print(description)\n",
    "        item_list.append((title,link,pubDate,description))      # append 붙이기\n",
    "else:                                           # 200이 아니면 \"Error Code\"\n",
    "    print(\"Error Code:\" + rescode)"
   ]
  },
  {
   "cell_type": "code",
   "execution_count": null,
   "metadata": {},
   "outputs": [],
   "source": []
  },
  {
   "cell_type": "markdown",
   "metadata": {},
   "source": [
    "book_검색\n",
    "\n",
    "제목, 저자, 출판사, 가격, 이미지 링크, 출판일\n",
    "\n",
    "100건 검색"
   ]
  },
  {
   "cell_type": "code",
   "execution_count": 1,
   "metadata": {},
   "outputs": [
    {
     "ename": "NameError",
     "evalue": "name 'json' is not defined",
     "output_type": "error",
     "traceback": [
      "\u001b[1;31m---------------------------------------------------------------------------\u001b[0m",
      "\u001b[1;31mNameError\u001b[0m                                 Traceback (most recent call last)",
      "Cell \u001b[1;32mIn[1], line 24\u001b[0m\n\u001b[0;32m     22\u001b[0m response_body \u001b[38;5;241m=\u001b[39m response\u001b[38;5;241m.\u001b[39mread()\n\u001b[0;32m     23\u001b[0m data\u001b[38;5;241m=\u001b[39mresponse_body\u001b[38;5;241m.\u001b[39mdecode(\u001b[38;5;124m'\u001b[39m\u001b[38;5;124mutf-8\u001b[39m\u001b[38;5;124m'\u001b[39m)\n\u001b[1;32m---> 24\u001b[0m data1\u001b[38;5;241m=\u001b[39mjson\u001b[38;5;241m.\u001b[39mloads(data)\n\u001b[0;32m     25\u001b[0m items\u001b[38;5;241m=\u001b[39mdata1[\u001b[38;5;124m'\u001b[39m\u001b[38;5;124mitems\u001b[39m\u001b[38;5;124m'\u001b[39m]\n\u001b[0;32m     26\u001b[0m \u001b[38;5;28;01mfor\u001b[39;00m item \u001b[38;5;129;01min\u001b[39;00m items:\n",
      "\u001b[1;31mNameError\u001b[0m: name 'json' is not defined"
     ]
    }
   ],
   "source": [
    "import os\n",
    "import sys\n",
    "import pandas as pd\n",
    "import urllib.request\n",
    "client_id = \"dLMnxRa5UjmorywvuRFB\"\n",
    "client_secret = \"HxwMb59FIK\"\n",
    "search_list=['AI','python','한국사']\n",
    "for search in search_list:    \n",
    "    encText = urllib.parse.quote(search)\n",
    "    book_list=[]\n",
    "    #for search in search_list:\n",
    "    for i in range(1,6):                       # 100개가 최대 그래서 100개 포문으로 200개 받기\n",
    "        url = f\"https://openapi.naver.com/v1/search/book?query={encText}&display=10&start={i}\"        # JSON 결과\n",
    "        # url = \"https://openapi.naver.com/v1/search/blog.xml?query=\" + encText # XML 결과\n",
    "        request = urllib.request.Request(url)\n",
    "        request.add_header(\"X-Naver-Client-Id\",client_id)\n",
    "        request.add_header(\"X-Naver-Client-Secret\",client_secret)\n",
    "        response = urllib.request.urlopen(request)\n",
    "        rescode = response.getcode()\n",
    "        \n",
    "        if(rescode==200):\n",
    "            response_body = response.read()\n",
    "            data=response_body.decode('utf-8')\n",
    "            data1=json.loads(data)\n",
    "            items=data1['items']\n",
    "            for item in items:\n",
    "                title=item['title'].replace('<b>', '').replace('</b>', '')\n",
    "                link=item['link']\n",
    "                image_src=item['image']\n",
    "                author=item['author']\n",
    "                publisher=item['publisher']\n",
    "                price=item['discount']\n",
    "                description=item['description']\n",
    "                book_list.append((title,link,image_src,author,publisher,price,description))\n",
    "\n",
    "        else:\n",
    "            print(\"Error Code:\" + rescode)\n",
    "    book_df=pd.DataFrame(book_list,columns=['title','link','image_src','author','publisher','price','description'])\n",
    "\n",
    "    book_df.to_csv(f\"{search}.csv\",index=False)\n"
   ]
  }
 ],
 "metadata": {
  "kernelspec": {
   "display_name": "base",
   "language": "python",
   "name": "python3"
  },
  "language_info": {
   "codemirror_mode": {
    "name": "ipython",
    "version": 3
   },
   "file_extension": ".py",
   "mimetype": "text/x-python",
   "name": "python",
   "nbconvert_exporter": "python",
   "pygments_lexer": "ipython3",
   "version": "3.12.7"
  }
 },
 "nbformat": 4,
 "nbformat_minor": 2
}
