{
 "cells": [
  {
   "cell_type": "markdown",
   "metadata": {},
   "source": [
    "# aladin \n",
    "\n",
    "사진, 제목, 저자, 가격"
   ]
  },
  {
   "cell_type": "code",
   "execution_count": 40,
   "metadata": {},
   "outputs": [],
   "source": [
    "import requests\n",
    "import urllib.request as req\n",
    "from bs4 import BeautifulSoup as bs\n",
    "import re\n",
    "import json\n",
    "base='https://www.aladin.co.kr/shop/common/wbest.aspx?BestType=Bestseller&BranchType=1&CID=0&page='\n"
   ]
  },
  {
   "cell_type": "code",
   "execution_count": 41,
   "metadata": {},
   "outputs": [],
   "source": [
    "def save_img(src,title):\n",
    "    pattern=r'[가-힣a-zA-Z0-9]+'\n",
    "    result=re.findall(pattern,title)\n",
    "    result=' '.join(result)\n",
    "    path=f'data/images/{result}.jpg'\n",
    "    req.urlretrieve(src,path)\n",
    "    print(path,'저장됨')\n"
   ]
  },
  {
   "cell_type": "code",
   "execution_count": 61,
   "metadata": {},
   "outputs": [
    {
     "name": "stdout",
     "output_type": "stream",
     "text": [
      "index:0\n",
      "title:소년이 온다\n",
      "price: 15000\n"
     ]
    },
    {
     "ename": "TypeError",
     "evalue": "'NoneType' object is not subscriptable",
     "output_type": "error",
     "traceback": [
      "\u001b[1;31m---------------------------------------------------------------------------\u001b[0m",
      "\u001b[1;31mTypeError\u001b[0m                                 Traceback (most recent call last)",
      "Cell \u001b[1;32mIn[61], line 31\u001b[0m\n\u001b[0;32m     28\u001b[0m     author\u001b[38;5;241m=\u001b[39mbook_li_list[\u001b[38;5;241m1\u001b[39m]\u001b[38;5;241m.\u001b[39mfind(\u001b[38;5;124m'\u001b[39m\u001b[38;5;124ma\u001b[39m\u001b[38;5;124m'\u001b[39m)\u001b[38;5;241m.\u001b[39mtext\n\u001b[0;32m     30\u001b[0m img\u001b[38;5;241m=\u001b[39mbook\u001b[38;5;241m.\u001b[39mselect_one(\u001b[38;5;124m'\u001b[39m\u001b[38;5;124mimg\u001b[39m\u001b[38;5;124m'\u001b[39m)\n\u001b[1;32m---> 31\u001b[0m src\u001b[38;5;241m=\u001b[39mimg[\u001b[38;5;124m'\u001b[39m\u001b[38;5;124msrc\u001b[39m\u001b[38;5;124m'\u001b[39m]\n\u001b[0;32m     32\u001b[0m save_img(title,src)\n\u001b[0;32m     33\u001b[0m \u001b[38;5;28mprint\u001b[39m(img)\n",
      "\u001b[1;31mTypeError\u001b[0m: 'NoneType' object is not subscriptable"
     ]
    }
   ],
   "source": [
    "books=[]\n",
    "for i in range(1,3):\n",
    "    url=base+str(i)\n",
    "    res=requests.get(url)\n",
    "    soup=bs(res.text,'html.parser')\n",
    "\n",
    "    book_list=soup.findAll('div', {'class':'ss_book_list'})\n",
    "    for index, book in enumerate(book_list):\n",
    "        if index % 2==0:\n",
    "            print(f'index:{index*(i+1)}')\n",
    "            book_ul=book.find('ul')\n",
    "            title=book_ul.find('a',{'class':'bo3'})\n",
    "            if title !=None:\n",
    "                title=title.text\n",
    "            else:\n",
    "                title=\"---\"\n",
    "            print(f'title:{title}')\n",
    "            book_price=\"\"\n",
    "            book_author=\"\"\n",
    "\n",
    "            book_li_list=book_ul.findAll('li')\n",
    "            price=book_li_list[3].find('span').text.replace(',','')\n",
    "            print(f'price: {price}')\n",
    "            author=book_li_list[2].find('a')\n",
    "            if author !=None:\n",
    "                author=author.text\n",
    "            else:\n",
    "                author=book_li_list[1].find('a').text\n",
    "\n",
    "            img=book.select_one('img')\n",
    "            src=img['src']\n",
    "            save_img(title,src)\n",
    "            print(img)\n",
    "\n",
    "            print(f'author: {author}')\n",
    "            books.append((title, int(price), author))"
   ]
  },
  {
   "cell_type": "code",
   "execution_count": 58,
   "metadata": {},
   "outputs": [
    {
     "data": {
      "text/html": [
       "<div>\n",
       "<style scoped>\n",
       "    .dataframe tbody tr th:only-of-type {\n",
       "        vertical-align: middle;\n",
       "    }\n",
       "\n",
       "    .dataframe tbody tr th {\n",
       "        vertical-align: top;\n",
       "    }\n",
       "\n",
       "    .dataframe thead th {\n",
       "        text-align: right;\n",
       "    }\n",
       "</style>\n",
       "<table border=\"1\" class=\"dataframe\">\n",
       "  <thead>\n",
       "    <tr style=\"text-align: right;\">\n",
       "      <th></th>\n",
       "      <th>title</th>\n",
       "      <th>price</th>\n",
       "      <th>author</th>\n",
       "    </tr>\n",
       "  </thead>\n",
       "  <tbody>\n",
       "    <tr>\n",
       "      <th>0</th>\n",
       "      <td>소년이 온다</td>\n",
       "      <td>15000</td>\n",
       "      <td>한강</td>\n",
       "    </tr>\n",
       "    <tr>\n",
       "      <th>1</th>\n",
       "      <td>스토너</td>\n",
       "      <td>16800</td>\n",
       "      <td>존 윌리엄스</td>\n",
       "    </tr>\n",
       "    <tr>\n",
       "      <th>2</th>\n",
       "      <td>그릿 Grit</td>\n",
       "      <td>18800</td>\n",
       "      <td>김주환</td>\n",
       "    </tr>\n",
       "    <tr>\n",
       "      <th>3</th>\n",
       "      <td>봄밤의 모든 것</td>\n",
       "      <td>17000</td>\n",
       "      <td>백수린</td>\n",
       "    </tr>\n",
       "    <tr>\n",
       "      <th>4</th>\n",
       "      <td>양심</td>\n",
       "      <td>18000</td>\n",
       "      <td>최재천</td>\n",
       "    </tr>\n",
       "    <tr>\n",
       "      <th>...</th>\n",
       "      <td>...</td>\n",
       "      <td>...</td>\n",
       "      <td>...</td>\n",
       "    </tr>\n",
       "    <tr>\n",
       "      <th>95</th>\n",
       "      <td>패턴과 구조 영문법</td>\n",
       "      <td>19000</td>\n",
       "      <td>윤규철</td>\n",
       "    </tr>\n",
       "    <tr>\n",
       "      <th>96</th>\n",
       "      <td>Brown 일반화학 (일반화학교재연구회)</td>\n",
       "      <td>55000</td>\n",
       "      <td>Theodore L. Brown</td>\n",
       "    </tr>\n",
       "    <tr>\n",
       "      <th>97</th>\n",
       "      <td>히카루가 죽은 여름 5</td>\n",
       "      <td>6500</td>\n",
       "      <td>모쿠모쿠렌</td>\n",
       "    </tr>\n",
       "    <tr>\n",
       "      <th>98</th>\n",
       "      <td>대온실 수리 보고서</td>\n",
       "      <td>18000</td>\n",
       "      <td>김금희</td>\n",
       "    </tr>\n",
       "    <tr>\n",
       "      <th>99</th>\n",
       "      <td>2025 문동균 한국사 국가직 대비 실전 봉투모의고사</td>\n",
       "      <td>12000</td>\n",
       "      <td>문동균</td>\n",
       "    </tr>\n",
       "  </tbody>\n",
       "</table>\n",
       "<p>100 rows × 3 columns</p>\n",
       "</div>"
      ],
      "text/plain": [
       "                            title  price             author\n",
       "0                          소년이 온다  15000                 한강\n",
       "1                             스토너  16800             존 윌리엄스\n",
       "2                         그릿 Grit  18800                김주환\n",
       "3                        봄밤의 모든 것  17000                백수린\n",
       "4                              양심  18000                최재천\n",
       "..                            ...    ...                ...\n",
       "95                     패턴과 구조 영문법  19000                윤규철\n",
       "96         Brown 일반화학 (일반화학교재연구회)  55000  Theodore L. Brown\n",
       "97                   히카루가 죽은 여름 5   6500              모쿠모쿠렌\n",
       "98                     대온실 수리 보고서  18000                김금희\n",
       "99  2025 문동균 한국사 국가직 대비 실전 봉투모의고사  12000                문동균\n",
       "\n",
       "[100 rows x 3 columns]"
      ]
     },
     "execution_count": 58,
     "metadata": {},
     "output_type": "execute_result"
    }
   ],
   "source": [
    "import pandas as pd\n",
    "df=pd.DataFrame(books, columns=['title', 'price', 'author'])\n",
    "df.to_csv('books.csv', index=False)\n",
    "df"
   ]
  },
  {
   "cell_type": "code",
   "execution_count": 60,
   "metadata": {},
   "outputs": [
    {
     "name": "stdout",
     "output_type": "stream",
     "text": [
      "<pymysql.connections.Connection object at 0x0000024B6E7AC6B0>\n"
     ]
    }
   ],
   "source": [
    "import pymysql\n",
    "conn=pymysql.connect(\n",
    "    host='localhost',\n",
    "    user='G',\n",
    "    password='1234',\n",
    "    db='pydb',\n",
    "    charset='utf8')\n",
    "print(conn)\n",
    "cursor=conn.cursor()\n",
    "sql=\"insert into tblbook(title,price,author) values(%s,%s,%s)\"\n",
    "cursor.executemany(sql,books)\n",
    "conn.commit()\n",
    "conn.close()"
   ]
  }
 ],
 "metadata": {
  "kernelspec": {
   "display_name": "base",
   "language": "python",
   "name": "python3"
  },
  "language_info": {
   "codemirror_mode": {
    "name": "ipython",
    "version": 3
   },
   "file_extension": ".py",
   "mimetype": "text/x-python",
   "name": "python",
   "nbconvert_exporter": "python",
   "pygments_lexer": "ipython3",
   "version": "3.12.7"
  }
 },
 "nbformat": 4,
 "nbformat_minor": 2
}
